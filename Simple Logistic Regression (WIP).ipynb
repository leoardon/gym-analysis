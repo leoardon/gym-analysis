{
 "cells": [
  {
   "cell_type": "code",
   "execution_count": 29,
   "metadata": {},
   "outputs": [],
   "source": [
    "import pandas as pd\n",
    "import numpy as np\n",
    "import matplotlib.pyplot as plt\n",
    "import seaborn as sns\n",
    "\n",
    "from datetime import datetime\n",
    "from sklearn.compose import ColumnTransformer\n",
    "from sklearn.impute import SimpleImputer\n",
    "from sklearn.preprocessing import StandardScaler, OneHotEncoder\n",
    "from sklearn.linear_model import LogisticRegression\n",
    "from sklearn.model_selection import train_test_split\n",
    "from sklearn.metrics import plot_confusion_matrix\n",
    "from imblearn.pipeline import Pipeline, make_pipeline\n",
    "from imblearn.under_sampling import NearMiss"
   ]
  },
  {
   "cell_type": "markdown",
   "metadata": {},
   "source": [
    "We start by loading and joining the different datasets:"
   ]
  },
  {
   "cell_type": "code",
   "execution_count": 2,
   "metadata": {},
   "outputs": [],
   "source": [
    "df_subscriptions = pd.read_csv(\"user_subscriptions.csv\")"
   ]
  },
  {
   "cell_type": "code",
   "execution_count": 3,
   "metadata": {},
   "outputs": [],
   "source": [
    "df_subscriptions[\"Join Date\"] = df_subscriptions[\"Join Date\"].apply(lambda x: datetime.strptime(str(x),\"%b-%y\") if pd.notnull(x) else '')\n",
    "df_subscriptions[\"End Date\"] = df_subscriptions[\"End Date\"].apply(lambda x: datetime.strptime(str(x),\"%b-%y\") if pd.notnull(x) else '')"
   ]
  },
  {
   "cell_type": "code",
   "execution_count": 4,
   "metadata": {},
   "outputs": [],
   "source": [
    "df_visits1 = pd.read_csv(\"visitationdataPART1.csv\", parse_dates={'visit_datetime': ['visitdate', 'TimeofVisit']})\n",
    "df_visits2 = pd.read_csv(\"visitationdataPART2.csv\", parse_dates={'visit_datetime': ['visitdate', 'TimeofVisit']})\n",
    "df_visits = pd.concat([df_visits1, df_visits2])"
   ]
  },
  {
   "cell_type": "code",
   "execution_count": 5,
   "metadata": {},
   "outputs": [],
   "source": [
    "df_joined = df_visits.merge(df_subscriptions, how='left', on='CustomerID')"
   ]
  },
  {
   "cell_type": "markdown",
   "metadata": {},
   "source": [
    "## Feature engineering"
   ]
  },
  {
   "cell_type": "markdown",
   "metadata": {},
   "source": [
    "A first new feature we will introduce is the 'Tenure' of each customer, counted in number of weeks between the 'Join Date' and the 'Visit Date':"
   ]
  },
  {
   "cell_type": "code",
   "execution_count": 6,
   "metadata": {},
   "outputs": [],
   "source": [
    "df_joined[\"Tenure\"] = ((df_joined[\"visit_datetime\"] - df_joined[\"Join Date\"])/np.timedelta64(1, 'W')).astype(int)"
   ]
  },
  {
   "cell_type": "markdown",
   "metadata": {},
   "source": [
    "A second feature will be the age of the customer at start of subscription:"
   ]
  },
  {
   "cell_type": "code",
   "execution_count": 7,
   "metadata": {},
   "outputs": [],
   "source": [
    "df_joined[\"Age\"] = df_joined[\"Join Date\"].dt.year - df_joined[\"BirthYear\"].astype(int)"
   ]
  },
  {
   "cell_type": "markdown",
   "metadata": {},
   "source": [
    "Before continuing, we group the data by weeks instead of individual dates:"
   ]
  },
  {
   "cell_type": "code",
   "execution_count": 8,
   "metadata": {},
   "outputs": [],
   "source": [
    "df_joined = df_joined.set_index(\"visit_datetime\").groupby([\"CustomerID\", pd.Grouper(freq='W')]).agg({\n",
    "        \"CustomerID\": [\"first\", \"count\"],\n",
    "        \"Subscription Type\": \"first\",\n",
    "        \"Club\": \"first\",\n",
    "        \"Affluence\": \"first\",\n",
    "        \"Gender\": \"first\",\n",
    "        \"BirthYear\": \"first\",\n",
    "        \"Join Date\": \"first\",\n",
    "        \"End Date\": \"first\",\n",
    "        \"Tenure\": \"first\",\n",
    "        \"Age\": \"first\"\n",
    "    })"
   ]
  },
  {
   "cell_type": "code",
   "execution_count": 9,
   "metadata": {},
   "outputs": [],
   "source": [
    "df_joined.columns = [' '.join(col).strip() for col in df_joined.columns.values]"
   ]
  },
  {
   "cell_type": "code",
   "execution_count": 10,
   "metadata": {},
   "outputs": [],
   "source": [
    "df_predict = df_joined.reset_index(level=0)"
   ]
  },
  {
   "cell_type": "markdown",
   "metadata": {},
   "source": [
    "A third new feature is our target variable indicating whether a customer was lost or is still active. We will use a binary variable with 1 representing lost customers and 0 representing active customers:"
   ]
  },
  {
   "cell_type": "code",
   "execution_count": 11,
   "metadata": {},
   "outputs": [],
   "source": [
    "df_predict['Churn'] = np.where(df_predict['End Date first'].notnull(), 1, 0)"
   ]
  },
  {
   "cell_type": "markdown",
   "metadata": {},
   "source": [
    "We remove the features not needed anymore and rename some columns for clarity:"
   ]
  },
  {
   "cell_type": "code",
   "execution_count": 12,
   "metadata": {},
   "outputs": [],
   "source": [
    "df_predict.drop([\"CustomerID first\", \"Join Date first\", \"End Date first\", \"Tenure first\"], axis=1, inplace=True)"
   ]
  },
  {
   "cell_type": "code",
   "execution_count": 13,
   "metadata": {},
   "outputs": [],
   "source": [
    "df_predict = df_predict.rename(columns={\"CustomerID count\": \"Visits\",\n",
    "                           \"Subscription Type first\": \"SubscriptionType\",\n",
    "                           \"Club first\": \"Club\",\n",
    "                           \"Affluence first\": \"Affluence\",\n",
    "                           \"Gender first\": \"Gender\",\n",
    "                           \"BirthYear first\": \"BirthYear\",\n",
    "                           \"Age first\": \"Age\"\n",
    "                          })"
   ]
  },
  {
   "cell_type": "markdown",
   "metadata": {},
   "source": [
    "A fourth new feature represents the rolling average of the number of visits over the past 2 weeks:"
   ]
  },
  {
   "cell_type": "code",
   "execution_count": 14,
   "metadata": {},
   "outputs": [],
   "source": [
    "df_predict[\"Visits Rolling Avg\"] = df_predict.groupby(\"CustomerID\")[\"Visits\"].rolling(\"14d\").mean().to_numpy()"
   ]
  },
  {
   "cell_type": "markdown",
   "metadata": {},
   "source": [
    "Finally, as a past window we add a lag of 2 weeks for both the absolute number of visits and the rolling average:"
   ]
  },
  {
   "cell_type": "code",
   "execution_count": 15,
   "metadata": {},
   "outputs": [],
   "source": [
    "past_window = 2\n",
    "for col in [\"Visits\", \"Visits Rolling Avg\"]:\n",
    "    for t in range(1, past_window+1):\n",
    "        df_predict[col+\" (t-\"+str(t)+\")\"] = df_predict.groupby(\"CustomerID\")[col].shift(t)"
   ]
  },
  {
   "cell_type": "markdown",
   "metadata": {},
   "source": [
    "Resulting in the following dataset:"
   ]
  },
  {
   "cell_type": "code",
   "execution_count": 16,
   "metadata": {
    "scrolled": false
   },
   "outputs": [
    {
     "data": {
      "text/html": [
       "<div>\n",
       "<style scoped>\n",
       "    .dataframe tbody tr th:only-of-type {\n",
       "        vertical-align: middle;\n",
       "    }\n",
       "\n",
       "    .dataframe tbody tr th {\n",
       "        vertical-align: top;\n",
       "    }\n",
       "\n",
       "    .dataframe thead th {\n",
       "        text-align: right;\n",
       "    }\n",
       "</style>\n",
       "<table border=\"1\" class=\"dataframe\">\n",
       "  <thead>\n",
       "    <tr style=\"text-align: right;\">\n",
       "      <th></th>\n",
       "      <th>CustomerID</th>\n",
       "      <th>Visits</th>\n",
       "      <th>SubscriptionType</th>\n",
       "      <th>Club</th>\n",
       "      <th>Affluence</th>\n",
       "      <th>Gender</th>\n",
       "      <th>BirthYear</th>\n",
       "      <th>Age</th>\n",
       "      <th>Churn</th>\n",
       "      <th>Visits Rolling Avg</th>\n",
       "      <th>Visits (t-1)</th>\n",
       "      <th>Visits (t-2)</th>\n",
       "      <th>Visits Rolling Avg (t-1)</th>\n",
       "      <th>Visits Rolling Avg (t-2)</th>\n",
       "    </tr>\n",
       "    <tr>\n",
       "      <th>visit_datetime</th>\n",
       "      <th></th>\n",
       "      <th></th>\n",
       "      <th></th>\n",
       "      <th></th>\n",
       "      <th></th>\n",
       "      <th></th>\n",
       "      <th></th>\n",
       "      <th></th>\n",
       "      <th></th>\n",
       "      <th></th>\n",
       "      <th></th>\n",
       "      <th></th>\n",
       "      <th></th>\n",
       "      <th></th>\n",
       "    </tr>\n",
       "  </thead>\n",
       "  <tbody>\n",
       "    <tr>\n",
       "      <th>2011-12-04</th>\n",
       "      <td>1</td>\n",
       "      <td>3</td>\n",
       "      <td>Standard</td>\n",
       "      <td>Enfield</td>\n",
       "      <td>C1</td>\n",
       "      <td>Male</td>\n",
       "      <td>1992</td>\n",
       "      <td>19</td>\n",
       "      <td>1</td>\n",
       "      <td>3.0</td>\n",
       "      <td>NaN</td>\n",
       "      <td>NaN</td>\n",
       "      <td>NaN</td>\n",
       "      <td>NaN</td>\n",
       "    </tr>\n",
       "    <tr>\n",
       "      <th>2011-12-11</th>\n",
       "      <td>1</td>\n",
       "      <td>5</td>\n",
       "      <td>Standard</td>\n",
       "      <td>Enfield</td>\n",
       "      <td>C1</td>\n",
       "      <td>Male</td>\n",
       "      <td>1992</td>\n",
       "      <td>19</td>\n",
       "      <td>1</td>\n",
       "      <td>4.0</td>\n",
       "      <td>3.0</td>\n",
       "      <td>NaN</td>\n",
       "      <td>3.0</td>\n",
       "      <td>NaN</td>\n",
       "    </tr>\n",
       "    <tr>\n",
       "      <th>2011-12-18</th>\n",
       "      <td>1</td>\n",
       "      <td>6</td>\n",
       "      <td>Standard</td>\n",
       "      <td>Enfield</td>\n",
       "      <td>C1</td>\n",
       "      <td>Male</td>\n",
       "      <td>1992</td>\n",
       "      <td>19</td>\n",
       "      <td>1</td>\n",
       "      <td>5.5</td>\n",
       "      <td>5.0</td>\n",
       "      <td>3.0</td>\n",
       "      <td>4.0</td>\n",
       "      <td>3.0</td>\n",
       "    </tr>\n",
       "    <tr>\n",
       "      <th>2011-12-25</th>\n",
       "      <td>1</td>\n",
       "      <td>4</td>\n",
       "      <td>Standard</td>\n",
       "      <td>Enfield</td>\n",
       "      <td>C1</td>\n",
       "      <td>Male</td>\n",
       "      <td>1992</td>\n",
       "      <td>19</td>\n",
       "      <td>1</td>\n",
       "      <td>5.0</td>\n",
       "      <td>6.0</td>\n",
       "      <td>5.0</td>\n",
       "      <td>5.5</td>\n",
       "      <td>4.0</td>\n",
       "    </tr>\n",
       "    <tr>\n",
       "      <th>2012-01-01</th>\n",
       "      <td>1</td>\n",
       "      <td>2</td>\n",
       "      <td>Standard</td>\n",
       "      <td>Enfield</td>\n",
       "      <td>C1</td>\n",
       "      <td>Male</td>\n",
       "      <td>1992</td>\n",
       "      <td>19</td>\n",
       "      <td>1</td>\n",
       "      <td>3.0</td>\n",
       "      <td>4.0</td>\n",
       "      <td>6.0</td>\n",
       "      <td>5.0</td>\n",
       "      <td>5.5</td>\n",
       "    </tr>\n",
       "    <tr>\n",
       "      <th>...</th>\n",
       "      <td>...</td>\n",
       "      <td>...</td>\n",
       "      <td>...</td>\n",
       "      <td>...</td>\n",
       "      <td>...</td>\n",
       "      <td>...</td>\n",
       "      <td>...</td>\n",
       "      <td>...</td>\n",
       "      <td>...</td>\n",
       "      <td>...</td>\n",
       "      <td>...</td>\n",
       "      <td>...</td>\n",
       "      <td>...</td>\n",
       "      <td>...</td>\n",
       "    </tr>\n",
       "    <tr>\n",
       "      <th>2015-12-06</th>\n",
       "      <td>850033</td>\n",
       "      <td>1</td>\n",
       "      <td>Standard</td>\n",
       "      <td>Greenwich</td>\n",
       "      <td>C1</td>\n",
       "      <td>Male</td>\n",
       "      <td>1989</td>\n",
       "      <td>26</td>\n",
       "      <td>1</td>\n",
       "      <td>2.5</td>\n",
       "      <td>4.0</td>\n",
       "      <td>5.0</td>\n",
       "      <td>4.5</td>\n",
       "      <td>4.5</td>\n",
       "    </tr>\n",
       "    <tr>\n",
       "      <th>2015-12-13</th>\n",
       "      <td>850033</td>\n",
       "      <td>3</td>\n",
       "      <td>Standard</td>\n",
       "      <td>Greenwich</td>\n",
       "      <td>C1</td>\n",
       "      <td>Male</td>\n",
       "      <td>1989</td>\n",
       "      <td>26</td>\n",
       "      <td>1</td>\n",
       "      <td>2.0</td>\n",
       "      <td>1.0</td>\n",
       "      <td>4.0</td>\n",
       "      <td>2.5</td>\n",
       "      <td>4.5</td>\n",
       "    </tr>\n",
       "    <tr>\n",
       "      <th>2015-12-20</th>\n",
       "      <td>850033</td>\n",
       "      <td>2</td>\n",
       "      <td>Standard</td>\n",
       "      <td>Greenwich</td>\n",
       "      <td>C1</td>\n",
       "      <td>Male</td>\n",
       "      <td>1989</td>\n",
       "      <td>26</td>\n",
       "      <td>1</td>\n",
       "      <td>2.5</td>\n",
       "      <td>3.0</td>\n",
       "      <td>1.0</td>\n",
       "      <td>2.0</td>\n",
       "      <td>2.5</td>\n",
       "    </tr>\n",
       "    <tr>\n",
       "      <th>2015-12-27</th>\n",
       "      <td>850033</td>\n",
       "      <td>5</td>\n",
       "      <td>Standard</td>\n",
       "      <td>Greenwich</td>\n",
       "      <td>C1</td>\n",
       "      <td>Male</td>\n",
       "      <td>1989</td>\n",
       "      <td>26</td>\n",
       "      <td>1</td>\n",
       "      <td>3.5</td>\n",
       "      <td>2.0</td>\n",
       "      <td>3.0</td>\n",
       "      <td>2.5</td>\n",
       "      <td>2.0</td>\n",
       "    </tr>\n",
       "    <tr>\n",
       "      <th>2016-01-03</th>\n",
       "      <td>850033</td>\n",
       "      <td>1</td>\n",
       "      <td>Standard</td>\n",
       "      <td>Greenwich</td>\n",
       "      <td>C1</td>\n",
       "      <td>Male</td>\n",
       "      <td>1989</td>\n",
       "      <td>26</td>\n",
       "      <td>1</td>\n",
       "      <td>3.0</td>\n",
       "      <td>5.0</td>\n",
       "      <td>2.0</td>\n",
       "      <td>3.5</td>\n",
       "      <td>2.5</td>\n",
       "    </tr>\n",
       "  </tbody>\n",
       "</table>\n",
       "<p>17934465 rows × 14 columns</p>\n",
       "</div>"
      ],
      "text/plain": [
       "                CustomerID  Visits SubscriptionType       Club Affluence  \\\n",
       "visit_datetime                                                             \n",
       "2011-12-04               1       3         Standard    Enfield        C1   \n",
       "2011-12-11               1       5         Standard    Enfield        C1   \n",
       "2011-12-18               1       6         Standard    Enfield        C1   \n",
       "2011-12-25               1       4         Standard    Enfield        C1   \n",
       "2012-01-01               1       2         Standard    Enfield        C1   \n",
       "...                    ...     ...              ...        ...       ...   \n",
       "2015-12-06          850033       1         Standard  Greenwich        C1   \n",
       "2015-12-13          850033       3         Standard  Greenwich        C1   \n",
       "2015-12-20          850033       2         Standard  Greenwich        C1   \n",
       "2015-12-27          850033       5         Standard  Greenwich        C1   \n",
       "2016-01-03          850033       1         Standard  Greenwich        C1   \n",
       "\n",
       "               Gender  BirthYear  Age  Churn  Visits Rolling Avg  \\\n",
       "visit_datetime                                                     \n",
       "2011-12-04       Male       1992   19      1                 3.0   \n",
       "2011-12-11       Male       1992   19      1                 4.0   \n",
       "2011-12-18       Male       1992   19      1                 5.5   \n",
       "2011-12-25       Male       1992   19      1                 5.0   \n",
       "2012-01-01       Male       1992   19      1                 3.0   \n",
       "...               ...        ...  ...    ...                 ...   \n",
       "2015-12-06       Male       1989   26      1                 2.5   \n",
       "2015-12-13       Male       1989   26      1                 2.0   \n",
       "2015-12-20       Male       1989   26      1                 2.5   \n",
       "2015-12-27       Male       1989   26      1                 3.5   \n",
       "2016-01-03       Male       1989   26      1                 3.0   \n",
       "\n",
       "                Visits (t-1)  Visits (t-2)  Visits Rolling Avg (t-1)  \\\n",
       "visit_datetime                                                         \n",
       "2011-12-04               NaN           NaN                       NaN   \n",
       "2011-12-11               3.0           NaN                       3.0   \n",
       "2011-12-18               5.0           3.0                       4.0   \n",
       "2011-12-25               6.0           5.0                       5.5   \n",
       "2012-01-01               4.0           6.0                       5.0   \n",
       "...                      ...           ...                       ...   \n",
       "2015-12-06               4.0           5.0                       4.5   \n",
       "2015-12-13               1.0           4.0                       2.5   \n",
       "2015-12-20               3.0           1.0                       2.0   \n",
       "2015-12-27               2.0           3.0                       2.5   \n",
       "2016-01-03               5.0           2.0                       3.5   \n",
       "\n",
       "                Visits Rolling Avg (t-2)  \n",
       "visit_datetime                            \n",
       "2011-12-04                           NaN  \n",
       "2011-12-11                           NaN  \n",
       "2011-12-18                           3.0  \n",
       "2011-12-25                           4.0  \n",
       "2012-01-01                           5.5  \n",
       "...                                  ...  \n",
       "2015-12-06                           4.5  \n",
       "2015-12-13                           4.5  \n",
       "2015-12-20                           2.5  \n",
       "2015-12-27                           2.0  \n",
       "2016-01-03                           2.5  \n",
       "\n",
       "[17934465 rows x 14 columns]"
      ]
     },
     "execution_count": 16,
     "metadata": {},
     "output_type": "execute_result"
    }
   ],
   "source": [
    "df_predict"
   ]
  },
  {
   "cell_type": "markdown",
   "metadata": {},
   "source": [
    "## Input preparation"
   ]
  },
  {
   "cell_type": "markdown",
   "metadata": {},
   "source": [
    "Before running our prediction model we need to filter out customer data with insufficient historical data. We will use a prediction window of 4 weeks and, given the lag variables introduced above, need at least 3 weeks of visit data:"
   ]
  },
  {
   "cell_type": "code",
   "execution_count": 17,
   "metadata": {},
   "outputs": [],
   "source": [
    "df_predict_input = df_predict.dropna()"
   ]
  },
  {
   "cell_type": "code",
   "execution_count": 18,
   "metadata": {},
   "outputs": [],
   "source": [
    "df_predict_input = df_predict_input.groupby(\"CustomerID\").filter(lambda x: len(x) > 4)"
   ]
  },
  {
   "cell_type": "markdown",
   "metadata": {},
   "source": [
    "By customer, the most recent data point BEFORE the prediction window will be used as input for our prediction model:"
   ]
  },
  {
   "cell_type": "code",
   "execution_count": 19,
   "metadata": {},
   "outputs": [],
   "source": [
    "df_predict_input = df_predict_input[~df_predict_input.index.isin(df_predict_input.tail(4).index)]"
   ]
  },
  {
   "cell_type": "code",
   "execution_count": 20,
   "metadata": {},
   "outputs": [],
   "source": [
    "df_predict_input = df_predict_input.groupby(\"CustomerID\").last()"
   ]
  },
  {
   "cell_type": "markdown",
   "metadata": {},
   "source": [
    "Resulting in the following dataset with one record per customer:"
   ]
  },
  {
   "cell_type": "code",
   "execution_count": 21,
   "metadata": {},
   "outputs": [
    {
     "data": {
      "text/html": [
       "<div>\n",
       "<style scoped>\n",
       "    .dataframe tbody tr th:only-of-type {\n",
       "        vertical-align: middle;\n",
       "    }\n",
       "\n",
       "    .dataframe tbody tr th {\n",
       "        vertical-align: top;\n",
       "    }\n",
       "\n",
       "    .dataframe thead th {\n",
       "        text-align: right;\n",
       "    }\n",
       "</style>\n",
       "<table border=\"1\" class=\"dataframe\">\n",
       "  <thead>\n",
       "    <tr style=\"text-align: right;\">\n",
       "      <th></th>\n",
       "      <th>Visits</th>\n",
       "      <th>SubscriptionType</th>\n",
       "      <th>Club</th>\n",
       "      <th>Affluence</th>\n",
       "      <th>Gender</th>\n",
       "      <th>BirthYear</th>\n",
       "      <th>Age</th>\n",
       "      <th>Churn</th>\n",
       "      <th>Visits Rolling Avg</th>\n",
       "      <th>Visits (t-1)</th>\n",
       "      <th>Visits (t-2)</th>\n",
       "      <th>Visits Rolling Avg (t-1)</th>\n",
       "      <th>Visits Rolling Avg (t-2)</th>\n",
       "    </tr>\n",
       "    <tr>\n",
       "      <th>CustomerID</th>\n",
       "      <th></th>\n",
       "      <th></th>\n",
       "      <th></th>\n",
       "      <th></th>\n",
       "      <th></th>\n",
       "      <th></th>\n",
       "      <th></th>\n",
       "      <th></th>\n",
       "      <th></th>\n",
       "      <th></th>\n",
       "      <th></th>\n",
       "      <th></th>\n",
       "      <th></th>\n",
       "    </tr>\n",
       "  </thead>\n",
       "  <tbody>\n",
       "    <tr>\n",
       "      <th>2</th>\n",
       "      <td>1</td>\n",
       "      <td>Standard</td>\n",
       "      <td>Greenwich</td>\n",
       "      <td>A</td>\n",
       "      <td>Female</td>\n",
       "      <td>1972</td>\n",
       "      <td>46</td>\n",
       "      <td>0</td>\n",
       "      <td>1.5</td>\n",
       "      <td>2.0</td>\n",
       "      <td>1.0</td>\n",
       "      <td>1.5</td>\n",
       "      <td>1.0</td>\n",
       "    </tr>\n",
       "    <tr>\n",
       "      <th>3</th>\n",
       "      <td>3</td>\n",
       "      <td>Standard</td>\n",
       "      <td>Islington</td>\n",
       "      <td>B</td>\n",
       "      <td>Female</td>\n",
       "      <td>1985</td>\n",
       "      <td>33</td>\n",
       "      <td>1</td>\n",
       "      <td>4.0</td>\n",
       "      <td>5.0</td>\n",
       "      <td>5.0</td>\n",
       "      <td>5.0</td>\n",
       "      <td>5.0</td>\n",
       "    </tr>\n",
       "    <tr>\n",
       "      <th>4</th>\n",
       "      <td>4</td>\n",
       "      <td>Standard</td>\n",
       "      <td>Hounslow</td>\n",
       "      <td>C1</td>\n",
       "      <td>Female</td>\n",
       "      <td>1972</td>\n",
       "      <td>43</td>\n",
       "      <td>1</td>\n",
       "      <td>5.0</td>\n",
       "      <td>6.0</td>\n",
       "      <td>4.0</td>\n",
       "      <td>5.0</td>\n",
       "      <td>3.5</td>\n",
       "    </tr>\n",
       "    <tr>\n",
       "      <th>5</th>\n",
       "      <td>4</td>\n",
       "      <td>Standard</td>\n",
       "      <td>Barnet</td>\n",
       "      <td>C2</td>\n",
       "      <td>Male</td>\n",
       "      <td>1982</td>\n",
       "      <td>33</td>\n",
       "      <td>1</td>\n",
       "      <td>3.5</td>\n",
       "      <td>3.0</td>\n",
       "      <td>6.0</td>\n",
       "      <td>4.5</td>\n",
       "      <td>5.5</td>\n",
       "    </tr>\n",
       "    <tr>\n",
       "      <th>6</th>\n",
       "      <td>2</td>\n",
       "      <td>Standard</td>\n",
       "      <td>Harrow</td>\n",
       "      <td>C1</td>\n",
       "      <td>Male</td>\n",
       "      <td>1982</td>\n",
       "      <td>35</td>\n",
       "      <td>1</td>\n",
       "      <td>2.0</td>\n",
       "      <td>2.0</td>\n",
       "      <td>2.0</td>\n",
       "      <td>2.0</td>\n",
       "      <td>3.5</td>\n",
       "    </tr>\n",
       "    <tr>\n",
       "      <th>...</th>\n",
       "      <td>...</td>\n",
       "      <td>...</td>\n",
       "      <td>...</td>\n",
       "      <td>...</td>\n",
       "      <td>...</td>\n",
       "      <td>...</td>\n",
       "      <td>...</td>\n",
       "      <td>...</td>\n",
       "      <td>...</td>\n",
       "      <td>...</td>\n",
       "      <td>...</td>\n",
       "      <td>...</td>\n",
       "      <td>...</td>\n",
       "    </tr>\n",
       "    <tr>\n",
       "      <th>850029</th>\n",
       "      <td>5</td>\n",
       "      <td>Standard</td>\n",
       "      <td>Lewisham</td>\n",
       "      <td>A</td>\n",
       "      <td>Male</td>\n",
       "      <td>1995</td>\n",
       "      <td>23</td>\n",
       "      <td>0</td>\n",
       "      <td>5.5</td>\n",
       "      <td>6.0</td>\n",
       "      <td>7.0</td>\n",
       "      <td>6.5</td>\n",
       "      <td>6.5</td>\n",
       "    </tr>\n",
       "    <tr>\n",
       "      <th>850030</th>\n",
       "      <td>2</td>\n",
       "      <td>Standard</td>\n",
       "      <td>Tower Hamlets</td>\n",
       "      <td>B</td>\n",
       "      <td>Male</td>\n",
       "      <td>1987</td>\n",
       "      <td>26</td>\n",
       "      <td>1</td>\n",
       "      <td>2.0</td>\n",
       "      <td>1.0</td>\n",
       "      <td>1.0</td>\n",
       "      <td>1.0</td>\n",
       "      <td>1.0</td>\n",
       "    </tr>\n",
       "    <tr>\n",
       "      <th>850031</th>\n",
       "      <td>2</td>\n",
       "      <td>Standard</td>\n",
       "      <td>Redbridge</td>\n",
       "      <td>C1</td>\n",
       "      <td>Female</td>\n",
       "      <td>1985</td>\n",
       "      <td>33</td>\n",
       "      <td>1</td>\n",
       "      <td>3.0</td>\n",
       "      <td>4.0</td>\n",
       "      <td>4.0</td>\n",
       "      <td>4.0</td>\n",
       "      <td>4.5</td>\n",
       "    </tr>\n",
       "    <tr>\n",
       "      <th>850032</th>\n",
       "      <td>3</td>\n",
       "      <td>Standard</td>\n",
       "      <td>Camden</td>\n",
       "      <td>B</td>\n",
       "      <td>Female</td>\n",
       "      <td>1978</td>\n",
       "      <td>39</td>\n",
       "      <td>1</td>\n",
       "      <td>2.5</td>\n",
       "      <td>2.0</td>\n",
       "      <td>3.0</td>\n",
       "      <td>2.5</td>\n",
       "      <td>2.0</td>\n",
       "    </tr>\n",
       "    <tr>\n",
       "      <th>850033</th>\n",
       "      <td>1</td>\n",
       "      <td>Standard</td>\n",
       "      <td>Greenwich</td>\n",
       "      <td>C1</td>\n",
       "      <td>Male</td>\n",
       "      <td>1989</td>\n",
       "      <td>26</td>\n",
       "      <td>1</td>\n",
       "      <td>2.5</td>\n",
       "      <td>4.0</td>\n",
       "      <td>5.0</td>\n",
       "      <td>4.5</td>\n",
       "      <td>4.5</td>\n",
       "    </tr>\n",
       "  </tbody>\n",
       "</table>\n",
       "<p>789697 rows × 13 columns</p>\n",
       "</div>"
      ],
      "text/plain": [
       "            Visits SubscriptionType           Club Affluence  Gender  \\\n",
       "CustomerID                                                             \n",
       "2                1         Standard      Greenwich         A  Female   \n",
       "3                3         Standard      Islington         B  Female   \n",
       "4                4         Standard       Hounslow        C1  Female   \n",
       "5                4         Standard         Barnet        C2    Male   \n",
       "6                2         Standard         Harrow        C1    Male   \n",
       "...            ...              ...            ...       ...     ...   \n",
       "850029           5         Standard       Lewisham         A    Male   \n",
       "850030           2         Standard  Tower Hamlets         B    Male   \n",
       "850031           2         Standard      Redbridge        C1  Female   \n",
       "850032           3         Standard         Camden         B  Female   \n",
       "850033           1         Standard      Greenwich        C1    Male   \n",
       "\n",
       "            BirthYear  Age  Churn  Visits Rolling Avg  Visits (t-1)  \\\n",
       "CustomerID                                                            \n",
       "2                1972   46      0                 1.5           2.0   \n",
       "3                1985   33      1                 4.0           5.0   \n",
       "4                1972   43      1                 5.0           6.0   \n",
       "5                1982   33      1                 3.5           3.0   \n",
       "6                1982   35      1                 2.0           2.0   \n",
       "...               ...  ...    ...                 ...           ...   \n",
       "850029           1995   23      0                 5.5           6.0   \n",
       "850030           1987   26      1                 2.0           1.0   \n",
       "850031           1985   33      1                 3.0           4.0   \n",
       "850032           1978   39      1                 2.5           2.0   \n",
       "850033           1989   26      1                 2.5           4.0   \n",
       "\n",
       "            Visits (t-2)  Visits Rolling Avg (t-1)  Visits Rolling Avg (t-2)  \n",
       "CustomerID                                                                    \n",
       "2                    1.0                       1.5                       1.0  \n",
       "3                    5.0                       5.0                       5.0  \n",
       "4                    4.0                       5.0                       3.5  \n",
       "5                    6.0                       4.5                       5.5  \n",
       "6                    2.0                       2.0                       3.5  \n",
       "...                  ...                       ...                       ...  \n",
       "850029               7.0                       6.5                       6.5  \n",
       "850030               1.0                       1.0                       1.0  \n",
       "850031               4.0                       4.0                       4.5  \n",
       "850032               3.0                       2.5                       2.0  \n",
       "850033               5.0                       4.5                       4.5  \n",
       "\n",
       "[789697 rows x 13 columns]"
      ]
     },
     "execution_count": 21,
     "metadata": {},
     "output_type": "execute_result"
    }
   ],
   "source": [
    "df_predict_input"
   ]
  },
  {
   "cell_type": "markdown",
   "metadata": {},
   "source": [
    "## Target imbalance"
   ]
  },
  {
   "cell_type": "markdown",
   "metadata": {},
   "source": [
    "Important to note that the dataset is quite imbalanced, as the majority of the customers are actually lost customers. This will need to be considered in the prediction model."
   ]
  },
  {
   "cell_type": "code",
   "execution_count": 22,
   "metadata": {},
   "outputs": [
    {
     "data": {
      "text/plain": [
       "<matplotlib.axes._subplots.AxesSubplot at 0x2e5bdf56188>"
      ]
     },
     "execution_count": 22,
     "metadata": {},
     "output_type": "execute_result"
    },
    {
     "data": {
      "image/png": "[encoded data removed]",
      "text/plain": [
       "<Figure size 1080x360 with 1 Axes>"
      ]
     },
     "metadata": {
      "needs_background": "light"
     },
     "output_type": "display_data"
    }
   ],
   "source": [
    "plt.figure(figsize=(15,5))\n",
    "df_predict_input[\"Churn\"].value_counts().plot.bar()"
   ]
  },
  {
   "cell_type": "markdown",
   "metadata": {},
   "source": [
    "## Training & validation"
   ]
  },
  {
   "cell_type": "markdown",
   "metadata": {},
   "source": [
    "We are now ready to run our model. We opt for a logistic regression to estimate the probability of customers leaving in the prediction window. The model will also allow us to identify relationships between the different features and the customer churn.\n",
    "\n",
    "We will be using the ‘ScikitLearn’ package."
   ]
  },
  {
   "cell_type": "code",
   "execution_count": 23,
   "metadata": {},
   "outputs": [],
   "source": [
    "X, y = df_predict_input.drop(columns=[\"Churn\"]), df_predict_input[\"Churn\"]"
   ]
  },
  {
   "cell_type": "code",
   "execution_count": 24,
   "metadata": {},
   "outputs": [
    {
     "name": "stdout",
     "output_type": "stream",
     "text": [
      "model score: 0.552\n"
     ]
    }
   ],
   "source": [
    "# Normalize numeric features\n",
    "numeric_features = ['Visits', 'Age', 'Visits (t-1)', 'Visits (t-2)', \n",
    "                    'Visits Rolling Avg', 'Visits Rolling Avg (t-1)', 'Visits Rolling Avg (t-2)']\n",
    "numeric_transformer = Pipeline(steps=[\n",
    "    ('imputer', SimpleImputer(strategy='median')),\n",
    "    ('scaler', StandardScaler())])\n",
    "\n",
    "# Encode categorical features\n",
    "categorical_features = ['SubscriptionType', 'Club', 'Affluence', 'Gender']\n",
    "categorical_transformer = Pipeline(steps=[\n",
    "    ('imputer', SimpleImputer(strategy='constant', fill_value='missing')),\n",
    "    ('onehot', OneHotEncoder(handle_unknown='ignore'))])\n",
    "\n",
    "preprocessor = ColumnTransformer(\n",
    "    transformers=[\n",
    "        ('num', numeric_transformer, numeric_features),\n",
    "        ('cat', categorical_transformer, categorical_features)])\n",
    "\n",
    "# Pipeline, including undersampling\n",
    "clf = Pipeline(steps=[('preprocessor', preprocessor),\n",
    "                      ('sampling', NearMiss(1)),\n",
    "                      ('classifier', LogisticRegression(max_iter=10000))])\n",
    "\n",
    "# Train, validation split\n",
    "X_train, X_test, y_train, y_test = train_test_split(X, y, test_size=0.25)\n",
    "\n",
    "# Training\n",
    "clf.fit(X_train, y_train)\n",
    "\n",
    "# Validation\n",
    "print(\"model score: %.3f\" % clf.score(X_test, y_test))"
   ]
  },
  {
   "cell_type": "code",
   "execution_count": 25,
   "metadata": {},
   "outputs": [],
   "source": [
    "df_proba = clf.predict_proba(X)"
   ]
  },
  {
   "cell_type": "markdown",
   "metadata": {},
   "source": [
    "Let's have a look at the most important features:"
   ]
  },
  {
   "cell_type": "code",
   "execution_count": 26,
   "metadata": {},
   "outputs": [],
   "source": [
    "features = numeric_features\n",
    "features.extend(clf['preprocessor'].transformers_[1][1]['onehot'].get_feature_names(categorical_features).tolist())"
   ]
  },
  {
   "cell_type": "code",
   "execution_count": 45,
   "metadata": {},
   "outputs": [
    {
     "data": {
      "text/html": [
       "<div>\n",
       "<style scoped>\n",
       "    .dataframe tbody tr th:only-of-type {\n",
       "        vertical-align: middle;\n",
       "    }\n",
       "\n",
       "    .dataframe tbody tr th {\n",
       "        vertical-align: top;\n",
       "    }\n",
       "\n",
       "    .dataframe thead th {\n",
       "        text-align: right;\n",
       "    }\n",
       "</style>\n",
       "<table border=\"1\" class=\"dataframe\">\n",
       "  <thead>\n",
       "    <tr style=\"text-align: right;\">\n",
       "      <th></th>\n",
       "      <th>Feature</th>\n",
       "      <th>Importance</th>\n",
       "      <th>abs</th>\n",
       "    </tr>\n",
       "    <tr>\n",
       "      <th>Group</th>\n",
       "      <th></th>\n",
       "      <th></th>\n",
       "      <th></th>\n",
       "    </tr>\n",
       "  </thead>\n",
       "  <tbody>\n",
       "    <tr>\n",
       "      <th>Affluence</th>\n",
       "      <td>Affluence_DE</td>\n",
       "      <td>-3.160260</td>\n",
       "      <td>3.160260</td>\n",
       "    </tr>\n",
       "    <tr>\n",
       "      <th>Age</th>\n",
       "      <td>Age</td>\n",
       "      <td>-0.211355</td>\n",
       "      <td>0.211355</td>\n",
       "    </tr>\n",
       "    <tr>\n",
       "      <th>Club</th>\n",
       "      <td>Club_Redbridge</td>\n",
       "      <td>-2.271259</td>\n",
       "      <td>2.271259</td>\n",
       "    </tr>\n",
       "    <tr>\n",
       "      <th>Gender</th>\n",
       "      <td>Gender_Female</td>\n",
       "      <td>-0.068354</td>\n",
       "      <td>0.068354</td>\n",
       "    </tr>\n",
       "    <tr>\n",
       "      <th>SubscriptionType</th>\n",
       "      <td>SubscriptionType_Flexible</td>\n",
       "      <td>-1.224007</td>\n",
       "      <td>1.224007</td>\n",
       "    </tr>\n",
       "    <tr>\n",
       "      <th>Visits</th>\n",
       "      <td>Visits</td>\n",
       "      <td>-0.716725</td>\n",
       "      <td>0.716725</td>\n",
       "    </tr>\n",
       "    <tr>\n",
       "      <th>Visits (t-1)</th>\n",
       "      <td>Visits (t-1)</td>\n",
       "      <td>-0.155852</td>\n",
       "      <td>0.155852</td>\n",
       "    </tr>\n",
       "    <tr>\n",
       "      <th>Visits (t-2)</th>\n",
       "      <td>Visits (t-2)</td>\n",
       "      <td>-0.028350</td>\n",
       "      <td>0.028350</td>\n",
       "    </tr>\n",
       "    <tr>\n",
       "      <th>Visits Rolling Avg</th>\n",
       "      <td>Visits Rolling Avg</td>\n",
       "      <td>0.242728</td>\n",
       "      <td>0.242728</td>\n",
       "    </tr>\n",
       "    <tr>\n",
       "      <th>Visits Rolling Avg (t-1)</th>\n",
       "      <td>Visits Rolling Avg (t-1)</td>\n",
       "      <td>-0.002184</td>\n",
       "      <td>0.002184</td>\n",
       "    </tr>\n",
       "    <tr>\n",
       "      <th>Visits Rolling Avg (t-2)</th>\n",
       "      <td>Visits Rolling Avg (t-2)</td>\n",
       "      <td>0.087784</td>\n",
       "      <td>0.087784</td>\n",
       "    </tr>\n",
       "  </tbody>\n",
       "</table>\n",
       "</div>"
      ],
      "text/plain": [
       "                                            Feature  Importance       abs\n",
       "Group                                                                    \n",
       "Affluence                              Affluence_DE   -3.160260  3.160260\n",
       "Age                                             Age   -0.211355  0.211355\n",
       "Club                                 Club_Redbridge   -2.271259  2.271259\n",
       "Gender                                Gender_Female   -0.068354  0.068354\n",
       "SubscriptionType          SubscriptionType_Flexible   -1.224007  1.224007\n",
       "Visits                                       Visits   -0.716725  0.716725\n",
       "Visits (t-1)                           Visits (t-1)   -0.155852  0.155852\n",
       "Visits (t-2)                           Visits (t-2)   -0.028350  0.028350\n",
       "Visits Rolling Avg               Visits Rolling Avg    0.242728  0.242728\n",
       "Visits Rolling Avg (t-1)   Visits Rolling Avg (t-1)   -0.002184  0.002184\n",
       "Visits Rolling Avg (t-2)   Visits Rolling Avg (t-2)    0.087784  0.087784"
      ]
     },
     "execution_count": 45,
     "metadata": {},
     "output_type": "execute_result"
    }
   ],
   "source": [
    "importances = clf.named_steps['classifier'].coef_[0]\n",
    "\n",
    "best_features = pd.DataFrame(columns=['Feature', 'Importance', 'abs'])\n",
    "\n",
    "for f in range(len(features)):\n",
    "    best_features = best_features.append({'Feature': features[f], \n",
    "                                          'Importance': importances[f], \n",
    "                                          'abs': abs(importances[f])}, ignore_index=True)\n",
    "\n",
    "best_features = best_features.sort_values(by='abs', ascending=False)\n",
    "best_features[\"Group\"] = best_features[\"Feature\"].str.split(\"_\", 1).str[0]\n",
    "\n",
    "best_features.groupby('Group').first()"
   ]
  },
  {
   "cell_type": "code",
   "execution_count": 48,
   "metadata": {},
   "outputs": [],
   "source": [
    "best_features.groupby('Group').first().to_excel(\"Features.xlsx\")"
   ]
  },
  {
   "cell_type": "markdown",
   "metadata": {},
   "source": [
    "Perhaps surprisingly, our model seems to give most weight to the categorical features. This could be an indication that we do not necessarily need to collect a lot of visit data to identify customers which are at risk to cancel their subscription."
   ]
  },
  {
   "cell_type": "markdown",
   "metadata": {},
   "source": [
    "However, rather than relying on a binary prediction we would recommend to take actions based on probabilities which can easily be extracted from the model. One idea could be to build a \"churn risk\" indicator per customer to identify customers for which it makes sense to take remediating actions to prevent them from leaving."
   ]
  },
  {
   "cell_type": "code",
   "execution_count": 28,
   "metadata": {},
   "outputs": [
    {
     "data": {
      "text/plain": [
       "array([[0.44599574, 0.55400426],\n",
       "       [0.22486173, 0.77513827],\n",
       "       [0.5274552 , 0.4725448 ],\n",
       "       ...,\n",
       "       [0.88264483, 0.11735517],\n",
       "       [0.35937495, 0.64062505],\n",
       "       [0.14389962, 0.85610038]])"
      ]
     },
     "execution_count": 28,
     "metadata": {},
     "output_type": "execute_result"
    }
   ],
   "source": [
    "df_proba"
   ]
  }
 ],
 "metadata": {
  "hide_input": false,
  "kernelspec": {
   "display_name": "Python 3",
   "language": "python",
   "name": "python3"
  },
  "language_info": {
   "codemirror_mode": {
    "name": "ipython",
    "version": 3
   },
   "file_extension": ".py",
   "mimetype": "text/x-python",
   "name": "python",
   "nbconvert_exporter": "python",
   "pygments_lexer": "ipython3",
   "version": "3.7.7"
  },
  "latex_envs": {
   "LaTeX_envs_menu_present": true,
   "autoclose": false,
   "autocomplete": false,
   "bibliofile": "biblio.bib",
   "cite_by": "apalike",
   "current_citInitial": 1,
   "eqLabelWithNumbers": true,
   "eqNumInitial": 1,
   "hotkeys": {
    "equation": "Ctrl-E",
    "itemize": "Ctrl-I"
   },
   "labels_anchors": false,
   "latex_user_defs": false,
   "report_style_numbering": false,
   "user_envs_cfg": false
  },
  "toc": {
   "base_numbering": 1,
   "nav_menu": {},
   "number_sections": true,
   "sideBar": false,
   "skip_h1_title": true,
   "title_cell": "Table of Contents",
   "title_sidebar": "Contents",
   "toc_cell": false,
   "toc_position": {},
   "toc_section_display": true,
   "toc_window_display": false
  }
 },
 "nbformat": 4,
 "nbformat_minor": 2
}
